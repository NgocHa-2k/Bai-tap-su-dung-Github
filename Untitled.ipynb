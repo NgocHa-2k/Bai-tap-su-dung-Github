{
 "cells": [
  {
   "cell_type": "code",
   "execution_count": 1,
   "id": "15918f3b",
   "metadata": {},
   "outputs": [
    {
     "name": "stdout",
     "output_type": "stream",
     "text": [
      "Nguyễn Thị Ngọc Hà\n"
     ]
    }
   ],
   "source": [
    "print(\"Nguyễn Thị Ngọc Hà\")"
   ]
  },
  {
   "cell_type": "code",
   "execution_count": 2,
   "id": "cc29b62d",
   "metadata": {},
   "outputs": [
    {
     "name": "stdout",
     "output_type": "stream",
     "text": [
      "9/5/2000\n"
     ]
    }
   ],
   "source": [
    "print(\"9/5/2000\")"
   ]
  },
  {
   "cell_type": "code",
   "execution_count": 3,
   "id": "0e184183",
   "metadata": {},
   "outputs": [
    {
     "name": "stdout",
     "output_type": "stream",
     "text": [
      "đến từ Bắc Ninh\n"
     ]
    }
   ],
   "source": [
    "print(\"đến từ Bắc Ninh\")"
   ]
  },
  {
   "cell_type": "code",
   "execution_count": 4,
   "id": "61865de4",
   "metadata": {},
   "outputs": [
    {
     "name": "stdout",
     "output_type": "stream",
     "text": [
      "công việc hiện tại: kỹ thuật kế toán\n"
     ]
    }
   ],
   "source": [
    "print(\"công việc hiện tại: kỹ thuật kế toán\")"
   ]
  },
  {
   "cell_type": "code",
   "execution_count": null,
   "id": "afba57ea",
   "metadata": {},
   "outputs": [],
   "source": []
  }
 ],
 "metadata": {
  "kernelspec": {
   "display_name": "Python 3 (ipykernel)",
   "language": "python",
   "name": "python3"
  },
  "language_info": {
   "codemirror_mode": {
    "name": "ipython",
    "version": 3
   },
   "file_extension": ".py",
   "mimetype": "text/x-python",
   "name": "python",
   "nbconvert_exporter": "python",
   "pygments_lexer": "ipython3",
   "version": "3.9.12"
  }
 },
 "nbformat": 4,
 "nbformat_minor": 5
}
